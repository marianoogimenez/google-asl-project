{
 "cells": [
  {
   "cell_type": "code",
   "execution_count": 1,
   "metadata": {},
   "outputs": [],
   "source": [
    "import pandas as pd\n",
    "import numpy as np\n",
    "import re\n",
    "import nltk\n",
    "import string\n",
    "import pandas as pd\n",
    "import gensim\n",
    "from nltk import SnowballStemmer\n",
    "import ibis"
   ]
  },
  {
   "cell_type": "code",
   "execution_count": 2,
   "metadata": {},
   "outputs": [],
   "source": [
    "df = pd.read_csv(\"dataset_A.csv\",index_col=0)"
   ]
  },
  {
   "cell_type": "markdown",
   "metadata": {},
   "source": [
    "### Parto del dataset A. Limpio las notas, las tokenizo y les saco  las stopwords."
   ]
  },
  {
   "cell_type": "code",
   "execution_count": 3,
   "metadata": {},
   "outputs": [],
   "source": [
    "def limpiador_cuerpo(x):\n",
    "    x= x.strip()\n",
    "    x= x.lower()\n",
    "    x= re.sub(\"&#xe1;\",\"á\",x)\n",
    "    x= re.sub(\"&#xe9;\",\"é\",x)\n",
    "    x= re.sub(\"&#xed;\",\"í\",x)\n",
    "    x= re.sub(\"&#xf3;\",\"ó\",x)\n",
    "    x= re.sub(\"&#xfa;\",\"ú\",x)\n",
    "    x= re.sub('<.*?>', '',x)\n",
    "    x= re.sub(pattern=\"&quot;\",repl=\"\",string=x)\n",
    "    x= re.sub(\"&.*?;\",\" \",x)\n",
    "    x= re.sub(pattern=\"[^a-zA-Záéíóúñ \\n]\",repl=\"\",string=x)\n",
    "    return x\n",
    "\n",
    "def sacar_stop(tokens,idioma=\"spanish\",min_len = 3,stemizar= False):\n",
    "    stopwords = nltk.corpus.stopwords.words(idioma)\n",
    "    tok_filt = [token for token in tokens if token not in stopwords and len(token)>=min_len]\n",
    "    #tok_filt = [token for token in tok_filt if token not in nltk.corpus.stopwords.words(\"english\")]\n",
    "    if stemizar:\n",
    "        tok_filt = [self.stem.stem(token) for token in tok_filt]\n",
    "    return tok_filt\n"
   ]
  },
  {
   "cell_type": "code",
   "execution_count": 4,
   "metadata": {},
   "outputs": [],
   "source": [
    "notas_tokenizadas = [sacar_stop(limpiador_cuerpo(x).split(\" \")) for x in df.body_raw]"
   ]
  },
  {
   "cell_type": "markdown",
   "metadata": {},
   "source": [
    "### Vectorizo cada nota usando d2v"
   ]
  },
  {
   "cell_type": "code",
   "execution_count": 5,
   "metadata": {},
   "outputs": [],
   "source": [
    "d2v = gensim.models.doc2vec.Doc2Vec.load(\"doc2vecleo\") ## levanto el doc2vec entrenado con casi medio palo de notas"
   ]
  },
  {
   "cell_type": "code",
   "execution_count": 6,
   "metadata": {},
   "outputs": [],
   "source": [
    "ans = []\n",
    "for nota in notas_tokenizadas:\n",
    "    ans.append(d2v.infer_vector(nota))\n",
    "notas_vec = np.array(ans)\n",
    "np.savetxt(X=notas_vec,fname=\"notas_datasetA_vectorizadas.txt\")"
   ]
  }
 ],
 "metadata": {
  "kernelspec": {
   "display_name": "Python 3",
   "language": "python",
   "name": "python3"
  },
  "language_info": {
   "codemirror_mode": {
    "name": "ipython",
    "version": 3
   },
   "file_extension": ".py",
   "mimetype": "text/x-python",
   "name": "python",
   "nbconvert_exporter": "python",
   "pygments_lexer": "ipython3",
   "version": "3.6.7"
  }
 },
 "nbformat": 4,
 "nbformat_minor": 2
}
